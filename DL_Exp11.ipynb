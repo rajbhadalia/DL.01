{
  "nbformat": 4,
  "nbformat_minor": 0,
  "metadata": {
    "colab": {
      "name": "DL-Exp11",
      "provenance": [],
      "authorship_tag": "ABX9TyMeAEeECv0uksuWShumpVVR",
      "include_colab_link": true
    },
    "kernelspec": {
      "name": "python3",
      "display_name": "Python 3"
    },
    "language_info": {
      "name": "python"
    }
  },
  "cells": [
    {
      "cell_type": "markdown",
      "metadata": {
        "id": "view-in-github",
        "colab_type": "text"
      },
      "source": [
        "<a href=\"https://colab.research.google.com/github/rajbhadalia/DL.01/blob/exp1/DL_Exp11.ipynb\" target=\"_parent\"><img src=\"https://colab.research.google.com/assets/colab-badge.svg\" alt=\"Open In Colab\"/></a>"
      ]
    },
    {
      "cell_type": "code",
      "metadata": {
        "id": "LrPrYyx560Vq"
      },
      "source": [
        "import os\n",
        "from imutils import build_montages\n",
        "import numpy as np\n",
        "import matplotlib.pyplot as plt\n",
        "import cv2\n",
        "from google.colab.patches import cv2_imshow\n",
        "\n",
        "from tensorflow.keras.datasets import mnist\n",
        "from tensorflow.keras.models import Model\n",
        "from tensorflow.keras.layers import Dense, Input, Lambda, Conv2D, Dropout, GlobalAveragePooling2D, MaxPooling2D\n",
        "import tensorflow.keras.backend as K"
      ],
      "execution_count": null,
      "outputs": []
    },
    {
      "cell_type": "code",
      "metadata": {
        "id": "mAoTAiz29Hx0"
      },
      "source": [
        "def make_pairs(images, labels):\n",
        "\tpairImages = []\n",
        "\tpairLabels = []\n",
        "  \n",
        "  # Seeing The Number of Unique Labels in Dataset\n",
        "\tnumClasses = len(np.unique(labels))\n",
        " \n",
        "\tidx = [np.where(labels == i)[0] for i in range(0, numClasses)]\n",
        "\n",
        "  # Going Through All The Images\n",
        "\tfor idxA in range(len(images)):\n",
        "\t\t# Getting One Image\n",
        "\t\tcurrentImage = images[idxA]\n",
        "\t\tlabel = labels[idxA]\n",
        "\t\t\n",
        "    # Random Another Image of Same Class\n",
        "\t\tidxB = np.random.choice(idx[label])\n",
        "\t\tposImage = images[idxB]\n",
        "\n",
        "\t\t# Making A positive Pair, and saving Label, i.e. Same Image & Label = 0\n",
        "\t\tpairImages.append([currentImage, posImage])\n",
        "\t\tpairLabels.append([1])\n",
        "  \t\n",
        "    # Random Image of Another Class\n",
        "\t\tnegIdx = np.where(labels != label)[0]\n",
        "\t\tnegImage = images[np.random.choice(negIdx)]\n",
        "\t\t\n",
        "    # Making A negative Pair, and saving Label, i.e. Different Image & Label = 1\n",
        "\t\tpairImages.append([currentImage, negImage])\n",
        "\t\tpairLabels.append([0])\n",
        "\t\n",
        "\treturn (np.array(pairImages), np.array(pairLabels))"
      ],
      "execution_count": null,
      "outputs": []
    },
    {
      "cell_type": "code",
      "metadata": {
        "id": "yXO6eTw098VS",
        "colab": {
          "base_uri": "https://localhost:8080/"
        },
        "outputId": "be91802f-3687-40c9-da5b-c20a22f3cf50"
      },
      "source": [
        "(trainX, trainY), (testX, testY) = mnist.load_data()\n",
        "trainX = trainX / 255.0\n",
        "testX = testX / 255.0\n",
        "\n",
        "# build the positive and negative image pairs\n",
        "(pairTrain, labelTrain) = make_pairs(trainX, trainY)\n",
        "(pairTest, labelTest) = make_pairs(testX, testY)\n",
        "\n",
        "images = []\n",
        "print(pairTrain.shape)"
      ],
      "execution_count": null,
      "outputs": [
        {
          "output_type": "stream",
          "text": [
            "(120000, 2, 28, 28)\n"
          ],
          "name": "stdout"
        }
      ]
    },
    {
      "cell_type": "code",
      "metadata": {
        "id": "6mJswrbOJSOG",
        "colab": {
          "base_uri": "https://localhost:8080/",
          "height": 282
        },
        "outputId": "e86731e3-69ce-4190-fcb3-b129caa66bdb"
      },
      "source": [
        "plt.imshow(pairTrain[0, 0])"
      ],
      "execution_count": null,
      "outputs": [
        {
          "output_type": "execute_result",
          "data": {
            "text/plain": [
              "<matplotlib.image.AxesImage at 0x7f87268f2210>"
            ]
          },
          "metadata": {
            "tags": []
          },
          "execution_count": 16
        },
        {
          "output_type": "display_data",
          "data": {
            "image/png": "[encoded data removed]",
            "text/plain": [
              "<Figure size 432x288 with 1 Axes>"
            ]
          },
          "metadata": {
            "tags": [],
            "needs_background": "light"
          }
        }
      ]
    },
    {
      "cell_type": "code",
      "metadata": {
        "id": "cR5WZUEHJfah",
        "colab": {
          "base_uri": "https://localhost:8080/",
          "height": 282
        },
        "outputId": "111890d9-798c-4349-bd1c-1c2e5f7fe85f"
      },
      "source": [
        "plt.imshow(pairTrain[0, 1])"
      ],
      "execution_count": null,
      "outputs": [
        {
          "output_type": "execute_result",
          "data": {
            "text/plain": [
              "<matplotlib.image.AxesImage at 0x7f87248f04d0>"
            ]
          },
          "metadata": {
            "tags": []
          },
          "execution_count": 17
        },
        {
          "output_type": "display_data",
          "data": {
            "image/png": "[encoded data removed]",
            "text/plain": [
              "<Figure size 432x288 with 1 Axes>"
            ]
          },
          "metadata": {
            "tags": [],
            "needs_background": "light"
          }
        }
      ]
    },
    {
      "cell_type": "code",
      "metadata": {
        "id": "XLqm2Yad-Kp3"
      },
      "source": [
        "for i in np.random.choice(np.arange(0, len(pairTrain)), size=(49,)):\n",
        "\timageA = pairTrain[i][0]\n",
        "\timageB = pairTrain[i][1]\n",
        "\tlabel = labelTrain[i]\n",
        "\t\n",
        "\toutput = np.zeros((36, 60), dtype=\"uint8\")\n",
        "\tpair = np.hstack([imageA, imageB])\n",
        "\toutput[4:32, 0:56] = pair\n",
        "\t\n",
        "\ttext = \"neg\" if label[0] == 0 else \"pos\"\n",
        "\tcolor = (0, 0, 255) if label[0] == 0 else (0, 255, 0)\n",
        "\t\n",
        "\tvis = cv2.merge([output] * 3)\n",
        "\tvis = cv2.resize(vis, (96, 51), interpolation=cv2.INTER_LINEAR)\n",
        "\tcv2.putText(vis, text, (2, 12), cv2.FONT_HERSHEY_SIMPLEX, 0.75, color, 2)\n",
        "\n",
        "\timages.append(vis)"
      ],
      "execution_count": null,
      "outputs": []
    },
    {
      "cell_type": "code",
      "metadata": {
        "id": "Kl-sEGKl-32J",
        "colab": {
          "base_uri": "https://localhost:8080/",
          "height": 391
        },
        "outputId": "ed892af0-6ad5-4ade-c591-a87c3e6f9e78"
      },
      "source": [
        "montage = build_montages(images, (96, 51), (7, 7))[0]\n",
        "\n",
        "cv2_imshow(montage)\n",
        "cv2.waitKey(0)"
      ],
      "execution_count": null,
      "outputs": [
        {
          "output_type": "display_data",
          "data": {
            "image/png": "[encoded data removed]",
            "text/plain": [
              "<PIL.Image.Image image mode=RGB size=672x357 at 0x7F86C744B490>"
            ]
          },
          "metadata": {
            "tags": []
          }
        },
        {
          "output_type": "execute_result",
          "data": {
            "text/plain": [
              "-1"
            ]
          },
          "metadata": {
            "tags": []
          },
          "execution_count": 19
        }
      ]
    },
    {
      "cell_type": "code",
      "metadata": {
        "id": "xNjRXphP_fnN"
      },
      "source": [
        "IMG_SHAPE = (28, 28, 1)\n",
        "BATCH_SIZE = 64\n",
        "EPOCHS = 100\n",
        "BASE_OUTPUT = \"output\"\n",
        "\n",
        "# Path To Model\n",
        "MODEL_PATH = os.path.sep.join([BASE_OUTPUT, \"siamese_model\"])\n",
        "\n",
        "# Path To Model Plot\n",
        "PLOT_PATH = os.path.sep.join([BASE_OUTPUT, \"plot.png\"])"
      ],
      "execution_count": null,
      "outputs": []
    },
    {
      "cell_type": "code",
      "metadata": {
        "id": "x9GTyrYBBGg8"
      },
      "source": [
        "def build_siamese_model(inputShape, embeddingDim = 48):\n",
        "\tinputs = Input(inputShape)\n",
        "\t\n",
        "  # First Layer\n",
        "\tx = Conv2D(64, (2, 2), padding=\"same\", activation=\"relu\")(inputs)\n",
        "\tx = MaxPooling2D(pool_size=(2, 2))(x)\n",
        "\tx = Dropout(0.3)(x)\n",
        " \n",
        "\t# Second Layer\n",
        "\tx = Conv2D(64, (2, 2), padding=\"same\", activation=\"relu\")(x)\n",
        "\tx = MaxPooling2D(pool_size=2)(x)\n",
        "\tx = Dropout(0.3)(x)\n",
        " \n",
        " \t# Making The Final Outputs\n",
        "\tpooledOutput = GlobalAveragePooling2D()(x)\n",
        "\toutputs = Dense(embeddingDim)(pooledOutput)\n",
        "\t\n",
        "  # Making The Model\n",
        "\tmodel = Model(inputs, outputs)\n",
        "\n",
        "\treturn model"
      ],
      "execution_count": null,
      "outputs": []
    },
    {
      "cell_type": "code",
      "metadata": {
        "id": "03TmWYUqDLrb"
      },
      "source": [
        "def euclidean_distance(vectors):\n",
        "\t(featsA, featsB) = vectors\n",
        "\n",
        "\tsumSquared = K.sum(K.square(featsA - featsB), axis=1, keepdims=True)\n",
        "\n",
        "\treturn K.sqrt(K.maximum(sumSquared, K.epsilon()))"
      ],
      "execution_count": null,
      "outputs": []
    },
    {
      "cell_type": "code",
      "metadata": {
        "id": "zf0nP1_TDUwt"
      },
      "source": [
        "def plot_training(H, plotPath):\n",
        "\tplt.style.use(\"ggplot\")\n",
        "\tplt.figure()\n",
        " \n",
        "  # Losses\n",
        "\tplt.plot(H.history[\"loss\"], label = \"Training Loss\")\n",
        "\tplt.plot(H.history[\"val_loss\"], label = \"Validation Loss\")\n",
        " \n",
        "  # Accuracyis\n",
        "\tplt.plot(H.history[\"accuracy\"], label = \"Training Accuracy\")\n",
        "\tplt.plot(H.history[\"val_accuracy\"], label = \"Validation Loss\")\n",
        "\tplt.title(\"Training Loss and Accuracy\")\n",
        "\tplt.xlabel(\"Epoch No.\")\n",
        "\tplt.ylabel(\"Loss/Accuracy\")\n",
        "\tplt.legend(loc = \"lower left\")\n",
        "\tplt.savefig(plotPath)"
      ],
      "execution_count": null,
      "outputs": []
    },
    {
      "cell_type": "code",
      "metadata": {
        "id": "AQpxgDtlE9bO"
      },
      "source": [
        "# Defining The Input\n",
        "imgA = Input(shape = IMG_SHAPE)\n",
        "imgB = Input(shape = IMG_SHAPE)\n",
        "\n",
        "# Making The Model\n",
        "featureExtractor = build_siamese_model(IMG_SHAPE)\n",
        "featsA = featureExtractor(imgA)\n",
        "featsB = featureExtractor(imgB)"
      ],
      "execution_count": null,
      "outputs": []
    },
    {
      "cell_type": "code",
      "metadata": {
        "id": "lU3pkpcrFSsg"
      },
      "source": [
        "# Implementing The Euclidean Distance\n",
        "distance = Lambda(euclidean_distance)([featsA, featsB])\n",
        "outputs = Dense(1, activation = \"sigmoid\")(distance)\n",
        "\n",
        "# Final Model\n",
        "model = Model(inputs = [imgA, imgB], outputs = outputs)"
      ],
      "execution_count": null,
      "outputs": []
    },
    {
      "cell_type": "code",
      "metadata": {
        "id": "LQiQ8jEiGzcg",
        "colab": {
          "base_uri": "https://localhost:8080/"
        },
        "outputId": "4fc85abd-cd67-430f-d8ef-a27ee8304475"
      },
      "source": [
        "model.compile(loss = \"binary_crossentropy\", optimizer = \"adam\", metrics = [\"accuracy\"])\n",
        "\n",
        "history = model.fit([pairTrain[:, 0], pairTrain[:, 1]], labelTrain[:], \n",
        "                    validation_data = ([pairTest[:, 0], pairTest[:, 1]], labelTest[:]),\n",
        "                    batch_size = BATCH_SIZE, epochs = 10)"
      ],
      "execution_count": null,
      "outputs": [
        {
          "output_type": "stream",
          "text": [
            "Epoch 1/10\n",
            "1875/1875 [==============================] - 46s 7ms/step - loss: 0.6932 - accuracy: 0.4981 - val_loss: 0.6932 - val_accuracy: 0.4675\n",
            "Epoch 2/10\n",
            "1875/1875 [==============================] - 13s 7ms/step - loss: 0.6932 - accuracy: 0.4987 - val_loss: 0.6932 - val_accuracy: 0.4908\n",
            "Epoch 3/10\n",
            "1875/1875 [==============================] - 13s 7ms/step - loss: 0.6932 - accuracy: 0.5008 - val_loss: 0.6932 - val_accuracy: 0.5000\n",
            "Epoch 4/10\n",
            "1875/1875 [==============================] - 13s 7ms/step - loss: 0.6932 - accuracy: 0.4994 - val_loss: 0.6932 - val_accuracy: 0.5000\n",
            "Epoch 5/10\n",
            "1875/1875 [==============================] - 13s 7ms/step - loss: 0.6932 - accuracy: 0.4976 - val_loss: 0.6931 - val_accuracy: 0.5000\n",
            "Epoch 6/10\n",
            "1875/1875 [==============================] - 13s 7ms/step - loss: 0.6932 - accuracy: 0.5005 - val_loss: 0.6932 - val_accuracy: 0.5000\n",
            "Epoch 7/10\n",
            "1875/1875 [==============================] - 13s 7ms/step - loss: 0.6932 - accuracy: 0.4990 - val_loss: 0.6932 - val_accuracy: 0.5000\n",
            "Epoch 8/10\n",
            "1875/1875 [==============================] - 13s 7ms/step - loss: 0.6931 - accuracy: 0.5021 - val_loss: 0.6932 - val_accuracy: 0.5000\n",
            "Epoch 9/10\n",
            "1875/1875 [==============================] - 13s 7ms/step - loss: 0.6931 - accuracy: 0.5008 - val_loss: 0.6932 - val_accuracy: 0.5000\n",
            "Epoch 10/10\n",
            "1875/1875 [==============================] - 13s 7ms/step - loss: 0.6853 - accuracy: 0.5191 - val_loss: 0.6106 - val_accuracy: 0.6762\n"
          ],
          "name": "stdout"
        }
      ]
    },
    {
      "cell_type": "code",
      "metadata": {
        "id": "PdIxwcjMHJ51",
        "colab": {
          "base_uri": "https://localhost:8080/",
          "height": 316
        },
        "outputId": "41bfd0d6-b2b0-4b33-9234-46555d6d225e"
      },
      "source": [
        "model.save(MODEL_PATH)\n",
        "plot_training(history, PLOT_PATH)"
      ],
      "execution_count": null,
      "outputs": [
        {
          "output_type": "stream",
          "text": [
            "INFO:tensorflow:Assets written to: output/siamese_model/assets\n"
          ],
          "name": "stdout"
        },
        {
          "output_type": "display_data",
          "data": {
            "image/png": "[encoded data removed]",
            "text/plain": [
              "<Figure size 432x288 with 1 Axes>"
            ]
          },
          "metadata": {
            "tags": []
          }
        }
      ]
    },
    {
      "cell_type": "code",
      "metadata": {
        "id": "3hQowd2sNE3d",
        "colab": {
          "base_uri": "https://localhost:8080/"
        },
        "outputId": "e39a2700-b388-4a8e-afa5-c1dc8d19d49e"
      },
      "source": [
        "# Same Pre-Processing As Our Images\n",
        "imageA = np.expand_dims(pairTest[45, 0], axis = -1)\n",
        "imageB = np.expand_dims(pairTest[45, 0], axis = -1)\n",
        "\n",
        "imageA = np.expand_dims(imageA, axis = 0)\n",
        "imageB = np.expand_dims(imageB, axis = 0)\n",
        "preds = model.predict([imageA, imageB])\n",
        "\n",
        "print('The Predicted Accuracy is:', preds[0][0] * 100)"
      ],
      "execution_count": null,
      "outputs": [
        {
          "output_type": "stream",
          "text": [
            "The Predicted Accuracy is: 66.39552116394043\n"
          ],
          "name": "stdout"
        }
      ]
    },
    {
      "cell_type": "code",
      "metadata": {
        "id": "BR6Fpv8cOAHo",
        "colab": {
          "base_uri": "https://localhost:8080/",
          "height": 496
        },
        "outputId": "a600dd55-7175-417e-df5c-a58673f02992"
      },
      "source": [
        "imageA = np.resize(imageA, (28, 28))\n",
        "imageB = np.resize(imageB, (28, 28))\n",
        "\n",
        "fig = plt.figure(\"Pair #{}\".format(i + 1), figsize = (15, 8))\n",
        "plt.suptitle(\"Similarity: {:.2f}\".format(preds[0][0]))\n",
        "\n",
        "ax = fig.add_subplot(1, 2, 1)\n",
        "plt.imshow(imageA, cmap = plt.cm.gray)\n",
        "plt.axis(\"off\") \n",
        "\n",
        "ax = fig.add_subplot(1, 2, 2)\n",
        "plt.imshow(imageB, cmap = plt.cm.gray)\n",
        "plt.axis(\"off\")\n",
        "\n",
        "plt.show()"
      ],
      "execution_count": null,
      "outputs": [
        {
          "output_type": "display_data",
          "data": {
            "image/png": "[encoded data removed]",
            "text/plain": [
              "<Figure size 1080x576 with 2 Axes>"
            ]
          },
          "metadata": {
            "tags": []
          }
        }
      ]
    }
  ]
}